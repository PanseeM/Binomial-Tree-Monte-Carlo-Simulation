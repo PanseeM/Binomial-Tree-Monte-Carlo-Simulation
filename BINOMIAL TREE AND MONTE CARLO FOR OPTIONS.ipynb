{
 "cells": [
  {
   "cell_type": "markdown",
   "id": "1927c91a",
   "metadata": {},
   "source": [
    "# Binomial Tree for European/American Options"
   ]
  },
  {
   "cell_type": "code",
   "execution_count": 2,
   "id": "b7d338b2",
   "metadata": {},
   "outputs": [],
   "source": [
    "import pandas as pd\n",
    "import numpy as np\n",
    "import os"
   ]
  },
  {
   "cell_type": "code",
   "execution_count": 3,
   "id": "31e3f638",
   "metadata": {},
   "outputs": [],
   "source": [
    "S0 = 100.0              # spot stock price\n",
    "K = 100.0               # strike\n",
    "T = 1.0                 # maturity \n",
    "r = 0.1                 # risk free rate \n",
    "sig = 0.2               # diffusion coefficient or volatility\n",
    "N = 3                   # number of periods or number of time steps  \n",
    "payoff = \"put\"          # payoff"
   ]
  },
  {
   "cell_type": "code",
   "execution_count": 4,
   "id": "78861531",
   "metadata": {},
   "outputs": [],
   "source": [
    "dT = float(T) / N                             # Delta t\n",
    "u = np.exp(sig * np.sqrt(dT))                 # up factor\n",
    "d = 1.0 / u                                   # down factor"
   ]
  },
  {
   "cell_type": "code",
   "execution_count": 5,
   "id": "ea170480",
   "metadata": {},
   "outputs": [],
   "source": [
    "S = np.zeros((N + 1, N + 1))\n",
    "S[0, 0] = S0\n",
    "z = 1\n",
    "for t in range(1, N + 1):\n",
    "    for i in range(z):\n",
    "        S[i, t] = S[i, t-1] * u\n",
    "        S[i+1, t] = S[i, t-1] * d\n",
    "    z += 1"
   ]
  },
  {
   "cell_type": "code",
   "execution_count": 6,
   "id": "a87473f4",
   "metadata": {},
   "outputs": [
    {
     "data": {
      "text/plain": [
       "array([[100.        , 112.24009024, 125.97837858, 141.39824581],\n",
       "       [  0.        ,  89.09472523, 100.        , 112.24009024],\n",
       "       [  0.        ,   0.        ,  79.37870064,  89.09472523],\n",
       "       [  0.        ,   0.        ,   0.        ,  70.72223522]])"
      ]
     },
     "execution_count": 6,
     "metadata": {},
     "output_type": "execute_result"
    }
   ],
   "source": [
    "\n",
    "S"
   ]
  },
  {
   "cell_type": "code",
   "execution_count": 7,
   "id": "621698a5",
   "metadata": {},
   "outputs": [
    {
     "data": {
      "text/plain": [
       "0.6176090164403981"
      ]
     },
     "execution_count": 7,
     "metadata": {},
     "output_type": "execute_result"
    }
   ],
   "source": [
    "a = np.exp(r * dT)    # risk free compound return\n",
    "p = (a - d)/ (u - d)  # risk neutral up probability\n",
    "q = 1.0 - p           # risk neutral down probability\n",
    "p"
   ]
  },
  {
   "cell_type": "code",
   "execution_count": 8,
   "id": "dcb95f13",
   "metadata": {},
   "outputs": [
    {
     "data": {
      "text/plain": [
       "array([[ 0.        ,  0.        ,  0.        ,  0.        ],\n",
       "       [ 0.        ,  0.        ,  0.        ,  0.        ],\n",
       "       [ 0.        ,  0.        ,  0.        , 10.90527477],\n",
       "       [ 0.        ,  0.        ,  0.        , 29.27776478]])"
      ]
     },
     "execution_count": 8,
     "metadata": {},
     "output_type": "execute_result"
    }
   ],
   "source": [
    "S_T = S[:,-1]\n",
    "V = np.zeros((N + 1, N + 1))\n",
    "if payoff ==\"call\":\n",
    "    V[:,-1] = np.maximum(S_T-K, 0.0)\n",
    "elif payoff ==\"put\":\n",
    "    V[:,-1] = np.maximum(K-S_T, 0.0)\n",
    "V"
   ]
  },
  {
   "cell_type": "code",
   "execution_count": 9,
   "id": "dcf68eac",
   "metadata": {},
   "outputs": [
    {
     "data": {
      "text/plain": [
       "array([[ 4.15461967,  1.49175992,  0.        ,  0.        ],\n",
       "       [ 0.        ,  8.82373471,  4.0333673 ,  0.        ],\n",
       "       [ 0.        ,  0.        , 17.34290941, 10.90527477],\n",
       "       [ 0.        ,  0.        ,  0.        , 29.27776478]])"
      ]
     },
     "execution_count": 9,
     "metadata": {},
     "output_type": "execute_result"
    }
   ],
   "source": [
    "# for European Option\n",
    "for j in range(N-1, -1, -1):\n",
    "    for i in range(j+1):\n",
    "        V[i,j] = np.exp(-r*dT) * (p * V[i,j + 1] + q * V[i + 1,j + 1])\n",
    "V"
   ]
  },
  {
   "cell_type": "code",
   "execution_count": 10,
   "id": "1eedb118",
   "metadata": {},
   "outputs": [
    {
     "name": "stdout",
     "output_type": "stream",
     "text": [
      "European put 4.154619665678642\n"
     ]
    }
   ],
   "source": [
    "print('European ' + payoff, str( V[0,0]))"
   ]
  },
  {
   "cell_type": "code",
   "execution_count": 11,
   "id": "b43504d0",
   "metadata": {},
   "outputs": [
    {
     "data": {
      "text/plain": [
       "array([[ 4.92448707,  1.49175992,  0.        ,  0.        ],\n",
       "       [ 0.        , 10.90527477,  4.0333673 ,  0.        ],\n",
       "       [ 0.        ,  0.        , 20.62129936, 10.90527477],\n",
       "       [ 0.        ,  0.        ,  0.        , 29.27776478]])"
      ]
     },
     "execution_count": 11,
     "metadata": {},
     "output_type": "execute_result"
    }
   ],
   "source": [
    "# for American Option\n",
    "if payoff ==\"call\":\n",
    "    for j in range(N-1, -1, -1):\n",
    "        for i in range(j+1):\n",
    "            V[i,j] = np.maximum(S[i,j] - K,np.exp(-r*dT) * (p * V[i,j + 1] + q * V[i + 1,j + 1]))\n",
    "elif payoff ==\"put\":\n",
    "    for j in range(N-1, -1, -1):\n",
    "        for i in range(j+1):\n",
    "            V[i,j] = np.maximum(K - S[i,j],np.exp(-r*dT) * (p * V[i,j + 1] + q * V[i + 1,j + 1]))\n",
    "V"
   ]
  },
  {
   "cell_type": "code",
   "execution_count": 12,
   "id": "6b5a6b0f",
   "metadata": {},
   "outputs": [
    {
     "name": "stdout",
     "output_type": "stream",
     "text": [
      "American put 4.924487073316837\n"
     ]
    }
   ],
   "source": [
    "print('American ' + payoff, str( V[0,0]))\n"
   ]
  },
  {
   "cell_type": "markdown",
   "id": "1072f737",
   "metadata": {},
   "source": [
    "# MONTE CARLO SIMULATION"
   ]
  },
  {
   "cell_type": "code",
   "execution_count": 14,
   "id": "50226cd8",
   "metadata": {},
   "outputs": [],
   "source": [
    "def mcs_simulation_np(p):\n",
    "    M = p\n",
    "    I = p\n",
    "    dt = T / M \n",
    "    S = np.zeros((M + 1, I))\n",
    "    S[0] = S0 \n",
    "    rn = np.random.standard_normal(S.shape) \n",
    "    for t in range(1, M + 1): \n",
    "        S[t] = S[t-1] * np.exp((r - sigma ** 2 / 2) * dt + sigma * np.sqrt(dt) * rn[t]) \n",
    "    return S"
   ]
  },
  {
   "cell_type": "code",
   "execution_count": 15,
   "id": "f5b102d2",
   "metadata": {},
   "outputs": [],
   "source": [
    "T = 1\n",
    "r = 0.1\n",
    "sigma = 0.2\n",
    "S0 = 100\n",
    "K = 100"
   ]
  },
  {
   "cell_type": "code",
   "execution_count": 16,
   "id": "dea266d8",
   "metadata": {},
   "outputs": [],
   "source": [
    "S = mcs_simulation_np(1000)"
   ]
  },
  {
   "cell_type": "code",
   "execution_count": 17,
   "id": "535b47d0",
   "metadata": {},
   "outputs": [
    {
     "data": {
      "text/plain": [
       "array([[100.        ,  99.04934836,  99.61940573, ..., 117.48824643,\n",
       "        117.01762739, 117.41498437],\n",
       "       [100.        , 100.29148294, 100.59727439, ..., 110.87749555,\n",
       "        111.14703135, 111.41333557],\n",
       "       [100.        ,  99.56268819, 100.08232229, ..., 112.41342916,\n",
       "        113.83332409, 113.50295398],\n",
       "       ...,\n",
       "       [100.        , 100.3375084 ,  99.82441007, ...,  78.07023778,\n",
       "         78.35260778,  78.60332428],\n",
       "       [100.        , 100.43793325, 100.17529753, ..., 113.66841175,\n",
       "        111.92524201, 111.8320857 ],\n",
       "       [100.        ,  99.60869368,  98.20472878, ...,  98.18915919,\n",
       "         98.19278673,  97.66109384]])"
      ]
     },
     "execution_count": 17,
     "metadata": {},
     "output_type": "execute_result"
    }
   ],
   "source": [
    "S = np.transpose(S)\n",
    "S"
   ]
  },
  {
   "cell_type": "code",
   "execution_count": 18,
   "id": "b0676622",
   "metadata": {},
   "outputs": [
    {
     "data": {
      "text/plain": [
       "Text(0.5, 1.0, 'Frequency distribution of the simulated end-of-preiod values')"
      ]
     },
     "execution_count": 18,
     "metadata": {},
     "output_type": "execute_result"
    },
    {
     "data": {
      "image/png": "[encoded data removed]",
      "text/plain": [
       "<Figure size 432x288 with 1 Axes>"
      ]
     },
     "metadata": {
      "needs_background": "light"
     },
     "output_type": "display_data"
    }
   ],
   "source": [
    "import matplotlib.pyplot as plt\n",
    "n, bins, patches = plt.hist(x=S[:,-1], bins='auto', color='#0504aa',alpha=0.7, rwidth=0.85)\n",
    "\n",
    "plt.grid(axis='y', alpha=0.75)\n",
    "plt.xlabel('S_T')\n",
    "plt.ylabel('Frequency')\n",
    "plt.title('Frequency distribution of the simulated end-of-preiod values')"
   ]
  },
  {
   "cell_type": "code",
   "execution_count": 19,
   "id": "b964df51",
   "metadata": {},
   "outputs": [
    {
     "name": "stdout",
     "output_type": "stream",
     "text": [
      "European put 4.101224523757464\n"
     ]
    }
   ],
   "source": [
    "p = np.mean(np.maximum(K - S[:,-1],0))\n",
    "print('European put', str(p))"
   ]
  },
  {
   "cell_type": "code",
   "execution_count": 20,
   "id": "6b67e6f4",
   "metadata": {},
   "outputs": [
    {
     "name": "stdout",
     "output_type": "stream",
     "text": [
      "European call 15.0449997564044\n"
     ]
    }
   ],
   "source": [
    "c = np.mean(np.maximum(S[:,-1] - K,0))\n",
    "print('European call', str(c))"
   ]
  },
  {
   "cell_type": "code",
   "execution_count": null,
   "id": "5c8913b9",
   "metadata": {},
   "outputs": [],
   "source": []
  }
 ],
 "metadata": {
  "kernelspec": {
   "display_name": "Python 3",
   "language": "python",
   "name": "python3"
  },
  "language_info": {
   "codemirror_mode": {
    "name": "ipython",
    "version": 3
   },
   "file_extension": ".py",
   "mimetype": "text/x-python",
   "name": "python",
   "nbconvert_exporter": "python",
   "pygments_lexer": "ipython3",
   "version": "3.8.8"
  }
 },
 "nbformat": 4,
 "nbformat_minor": 5
}
